{
 "cells": [
  {
   "cell_type": "code",
   "execution_count": 4,
   "metadata": {},
   "outputs": [],
   "source": [
    "from sklearn.linear_model import LinearRegression\n",
    "import matplotlib.pyplot as plt\n",
    "import numpy\n",
    "import pandas\n"
   ]
  },
  {
   "cell_type": "code",
   "execution_count": 9,
   "metadata": {},
   "outputs": [],
   "source": [
    "class Regression:\n",
    "\tdef __init__(self, data_preparation_object):\n",
    "\t\tself.data_preparation_object = data_preparation_object\n",
    "\t\tself.model = LinearRegression()\n",
    "\n",
    "\t\tself.model.fit(data_preparation_object.x_train, data_preparation_object.y_train)\n",
    "\n",
    "\t\ty_train_predicted = self.model.predict(data_preparation_object.x_train)\n",
    "\t\tmean_train_absolute_error = numpy.mean(numpy.abs(y_train_predicted - data_preparation_object.y_train))\n",
    "\t\tprint(f\"sur le jeu de train : {mean_train_absolute_error=:.2f}\")\n",
    "\n",
    "\n",
    "\t\ty_test_predicted = self.model.predict(data_preparation_object.x_test)\n",
    "\t\tmean_test_absolute_error = numpy.mean(numpy.abs(y_test_predicted - data_preparation_object.y_test))\n",
    "\t\tprint(f\"sur le jeu de test : {mean_test_absolute_error=:.2f}\")\n",
    "\n",
    "\t\tself.show_model_predictions(y_train_predicted, y_test_predicted)\n",
    "\n",
    "\tdef show_model_predictions(self, y_train_predicted, y_test_predicted):\n",
    "\t\tplt.figure(figsize=(15, 6))\n",
    "\t\tplt.plot(self.data_preparation_object.x_train, self.data_preparation_object.y_train, \"bo:\")# vt\n",
    "\t\tplt.plot(self.data_preparation_object.x_train, y_train_predicted,\"b\") # prediction\n",
    "\n",
    "\t\tplt.plot(self.data_preparation_object.x_test, self.data_preparation_object.y_test, \"ro:\") # vt\n",
    "\t\tplt.plot(self.data_preparation_object.x_test, y_test_predicted, \"r\")# prediction\n",
    "\t\tplt.show()\n",
    "\n",
    "\t\n",
    "\t\t\n",
    " \n",
    "\n",
    "\t\t\n",
    "        \n",
    "\n",
    "\n",
    "\n"
   ]
  },
  {
   "cell_type": "code",
   "execution_count": 12,
   "metadata": {},
   "outputs": [],
   "source": [
    "class DataPreparation:\n",
    "\tdef __init__(self, csv_path):\n",
    "\t\t\"\"\"\n",
    "\t\tCette classe prend en entrée un chemin de fichier csv.\n",
    "\t\tElle split le jeu de donnée en 2 bases \n",
    "\t\t+ une train 75 %\n",
    "\t\t+ une test 25 %\n",
    "\t\tCe 2 bases, la classe va les splits en 2 \n",
    "\n",
    "\t\t+ un vecteur x (qui contient les indexs temporels)\n",
    "\t\t+ un vecteyr y (qui contient les valeurs à prédire)\n",
    "\t\tEn tout cette va extraire 4 arrays.\n",
    "\t\tx_train\n",
    "\t\ty_train\n",
    "\t\tx_test\n",
    "\t\ty_test\n",
    "\t\t\"\"\"\n",
    "\t\tself.dataset_df = pandas.read_csv(csv_path)\n",
    "\t\tself.dataset_df[\"month\"] = pandas.to_datetime(self.dataset_df[\"month\"])\n",
    "\t\tself.prepare_data()\n",
    "\n",
    "\tdef prepare_data(self):\n",
    "\t\tnumber_of_rows = len(self.dataset_df)\n",
    "\t\tself.dataset_df[\"index_mesure\"] = numpy.arange(0, number_of_rows, 1)\n",
    "\n",
    "\t\tdataset_train_df = self.dataset_df.iloc[ : int(number_of_rows*0.75)]\n",
    "\t\tdataset_test_df = self.dataset_df.iloc[int(number_of_rows*0.75): ]\n",
    "\n",
    "\t\tself.x_train = dataset_train_df[['index_mesure']].values\n",
    "\t\tself.y_train = dataset_train_df[['passengers']].values\n",
    "\n",
    "\t\tself.x_test = dataset_test_df[['index_mesure']].values\n",
    "\t\tself.y_test = dataset_test_df[['passengers']].values\n",
    "\n",
    "\n",
    "\tdef show_graph(self):\n",
    "\t\tplt.figure(figsize=(15, 6))\n",
    "\t\tplt.plot(self.dataset_df[\"month\"], self.dataset_df[\"passengers\"], \"o:\")\n",
    "\t\tplt.show()\n",
    "\t\n",
    "\t\n",
    "\n",
    "\n",
    "\t\t\n"
   ]
  },
  {
   "cell_type": "code",
   "execution_count": null,
   "metadata": {},
   "outputs": [],
   "source": [
    "self.text()\n",
    "\n",
    "\n",
    "\n"
   ]
  }
 ],
 "metadata": {
  "kernelspec": {
   "display_name": "Python 3",
   "language": "python",
   "name": "python3"
  },
  "language_info": {
   "codemirror_mode": {
    "name": "ipython",
    "version": 3
   },
   "file_extension": ".py",
   "mimetype": "text/x-python",
   "name": "python",
   "nbconvert_exporter": "python",
   "pygments_lexer": "ipython3",
   "version": "3.12.0"
  }
 },
 "nbformat": 4,
 "nbformat_minor": 2
}
